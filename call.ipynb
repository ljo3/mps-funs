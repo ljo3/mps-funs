{
 "cells": [
  {
   "cell_type": "code",
   "execution_count": null,
   "id": "201a9cfb",
   "metadata": {},
   "outputs": [
    {
     "name": "stdout",
     "output_type": "stream",
     "text": [
      "Response from MPS: {\"lhs\":[{\"mwdata\":[17,23,4,10,11,24,5,6,12,18,1,7,13,19,25,8,14,20,21,2,15,16,22,3,9],\"mwsize\":[5,5],\"mwtype\":\"double\"}]}\n"
     ]
    }
   ],
   "source": [
    "import http.client\n",
    "import json\n",
    "\n",
    "# Input parameter for mymagic function\n",
    "in_param = 5  # Default value as per function definition\n",
    "\n",
    "# Convert input parameter to stringified JSON\n",
    "parameters = json.dumps({\n",
    "    \"nargout\": 1,        # mymagic returns one output\n",
    "    \"rhs\": [in_param]    # Pass the input argument\n",
    "})\n",
    "\n",
    "# Send RESTful request to MPS\n",
    "conn = http.client.HTTPConnection(\"20.199.27.70:9910\")\n",
    "headers = {\"Content-Type\": \"application/json\"}\n",
    "\n",
    "# Endpoint format: /<archive>/<function>\n",
    "conn.request(\"POST\", \"/MyProductionServerArchive/mymagic\", parameters, headers)\n",
    "\n",
    "# Parse response\n",
    "response = conn.getresponse()\n",
    "result = response.read().decode(\"utf-8\")\n",
    "print(\"Response from MPS:\", result)\n"
   ]
  }
 ],
 "metadata": {
  "kernelspec": {
   "display_name": "fastai",
   "language": "python",
   "name": "python3"
  },
  "language_info": {
   "codemirror_mode": {
    "name": "ipython",
    "version": 3
   },
   "file_extension": ".py",
   "mimetype": "text/x-python",
   "name": "python",
   "nbconvert_exporter": "python",
   "pygments_lexer": "ipython3",
   "version": "3.11.13"
  }
 },
 "nbformat": 4,
 "nbformat_minor": 5
}
